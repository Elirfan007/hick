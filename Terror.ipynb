{
  "nbformat": 4,
  "nbformat_minor": 0,
  "metadata": {
    "colab": {
      "name": "Untitled",
      "provenance": [],
      "authorship_tag": "ABX9TyM4/6Cj+gQYT06xXvlE44p8",
      "include_colab_link": true
    },
    "kernelspec": {
      "name": "python3",
      "display_name": "Python 3"
    },
    "language_info": {
      "name": "python"
    }
  },
  "cells": [
    {
      "cell_type": "markdown",
      "metadata": {
        "id": "view-in-github",
        "colab_type": "text"
      },
      "source": [
        "<a href=\"https://colab.research.google.com/github/Ban-177/Colab-Go2/blob/main/Mkey2.ipynb\" target=\"_parent\"><img src=\"https://colab.research.google.com/assets/colab-badge.svg\" alt=\"Open In Colab\"/></a>"
      ]
    },
    {
      "cell_type": "markdown",
      "metadata": {
        "id": "48llu13t6_G5"
      },
      "source": [
        "#**3D_PRINTING**"
      ]
    },
    {
      "cell_type": "code",
      "metadata": {
        "id": "MOEYLWyK7KSI"
      },
      "source": [
        "\n",
        "!nvidia-smi"
      ],
      "execution_count": null,
      "outputs": []
    },
    {
      "cell_type": "code",
      "metadata": {
        "id": "I0etcFOU7MhX"
      },
      "source": [
        "!pip install -U colabcode"
      ],
      "execution_count": null,
      "outputs": []
    },
    {
      "cell_type": "code",
      "metadata": {
        "id": "lEu2BjsJ7O2H"
      },
      "source": [
        "AUTHTOKEN = 'GANTINGROK'"
      ],
      "execution_count": null,
      "outputs": []
    },
    {
      "cell_type": "code",
      "metadata": {
        "id": "vKkCGHVS7Qsn"
      },
      "source": [
        "import colabcode as cc"
      ],
      "execution_count": null,
      "outputs": []
    },
    {
      "cell_type": "code",
      "metadata": {
        "id": "miIDHbNt7TKA"
      },
      "source": [
        "!curl ipinfo.io"
      ],
      "execution_count": null,
      "outputs": []
    },
    {
      "cell_type": "code",
      "metadata": {
        "id": "Dlysd9fj7UzX"
      },
      "source": [
        "cc.ColabCode(port = 12000, \n",
        "             authtoken = AUTHTOKEN, lab = True)"
      ],
      "execution_count": null,
      "outputs": []
    },
    {
      "cell_type": "code",
      "metadata": {
        "id": "ofE-Vww_7XiX"
      },
      "source": [
        "wget https://github.com/Ban-177/Colab-Go2/raw/main/gasken2.sh && chmod u+x gasken2.sh && ./gasken2.sh"
      ],
      "execution_count": null,
      "outputs": []
    }
  ]
}
